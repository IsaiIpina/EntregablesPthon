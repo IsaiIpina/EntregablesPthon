{
 "cells": [
  {
   "cell_type": "code",
   "execution_count": 2,
   "metadata": {},
   "outputs": [
    {
     "name": "stdout",
     "output_type": "stream",
     "text": [
      "¡Alerta, un asteoride se acerca!\n"
     ]
    }
   ],
   "source": [
    "# Añadir el código necesario para crear una variable que guarde la velocidad del asteroide.\n",
    "# Escribe una expresión de prueba para calcular si necesita una advertencia.\n",
    "# Agregue las instrucciones que se ejecutarán si la expresión de prueba es true o false.\n",
    "\n",
    "asteroide = 49\n",
    "if asteroide > 25:\n",
    "    print(\"¡Alerta, un asteoride se acerca!\")\n",
    "else:\n",
    "    print(\"No hay ninguna alerta\")"
   ]
  },
  {
   "cell_type": "code",
   "execution_count": 3,
   "metadata": {},
   "outputs": [
    {
     "name": "stdout",
     "output_type": "stream",
     "text": [
      "No hay nada en el cielo\n"
     ]
    }
   ],
   "source": [
    "# Agrega el código para crear una variable para un asteroide que viaja a 19 km/s\n",
    "# Escribe varias expresiones de prueba para determinar si puedes ver el rayo de luz desde la tierra\n",
    "# Agrega las instrucciones que se ejecutarán si las expresiones de prueba son True o False\n",
    "asteroide = 19\n",
    "if asteroide > 20:\n",
    "    print(\"Hay un rayo de luz en el cielo, ¡viene un asteroide!\")\n",
    "elif asteroide == 20:\n",
    "    print(\"Hay un rayo de luz en el cielo, ¡viene un asteroide!\")\n",
    "else:\n",
    "    print(\"No hay nada en el cielo\")"
   ]
  },
  {
   "cell_type": "code",
   "execution_count": 6,
   "metadata": {},
   "outputs": [
    {
     "name": "stdout",
     "output_type": "stream",
     "text": [
      "Hay un rayo de luz en el cielo, ¡viene un asteroide!\n"
     ]
    }
   ],
   "source": [
    "# Agrega el código para crear nuevas variables para la velocidad y el tamaño del asteroide\n",
    "# Para probar el código, prueba con varias velocidades y tamaños\n",
    "# Escribe varias expresiones de prueba o combinaciones de expresiones de prueba para determinar qué mensaje se debe enviar a Tierra.\n",
    "asteroideVel = 30\n",
    "asteroideTamaño = 50\n",
    "if asteroideVel > 25 and asteroideTamaño > 25:\n",
    "    print(\"¡ALERTA! Un asterioide muy grande se acerca rapidamente\")\n",
    "elif asteroideVel >= 20:\n",
    "    print(\"Hay un rayo de luz en el cielo, ¡viene un asteroide!\")\n",
    "elif asteroideTamaño < 25:\n",
    "    print(\"No hay nada en el cielo\")\n",
    "else:\n",
    "    print(\"No hay nada en el cielo\")"
   ]
  }
 ],
 "metadata": {
  "interpreter": {
   "hash": "f565dc464a86699f1f634d5c4b2dc8285304ea0b06635acb4fd373cc0534cc20"
  },
  "kernelspec": {
   "display_name": "Python 3.10.2 64-bit",
   "language": "python",
   "name": "python3"
  },
  "language_info": {
   "codemirror_mode": {
    "name": "ipython",
    "version": 3
   },
   "file_extension": ".py",
   "mimetype": "text/x-python",
   "name": "python",
   "nbconvert_exporter": "python",
   "pygments_lexer": "ipython3",
   "version": "3.10.2"
  },
  "orig_nbformat": 4
 },
 "nbformat": 4,
 "nbformat_minor": 2
}
