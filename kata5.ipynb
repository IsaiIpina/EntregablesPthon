{
 "cells": [
  {
   "cell_type": "code",
   "execution_count": 11,
   "metadata": {},
   "outputs": [],
   "source": [
    "# Crear variables para almacenar las dos distancias\n",
    "# ¡Asegúrate de quitar las comas!\n",
    "planeta1 = 149597870\n",
    "planeta2 = 778547200"
   ]
  },
  {
   "cell_type": "code",
   "execution_count": 13,
   "metadata": {},
   "outputs": [
    {
     "name": "stdout",
     "output_type": "stream",
     "text": [
      "628949330\n",
      "390577533.93\n"
     ]
    }
   ],
   "source": [
    "# Calcular la distancia entre planetas\n",
    "distanciaKM = planeta2 - planeta1\n",
    "distanciaMillas = distanciaKM * 0.621\n",
    "print(distanciaKM)\n",
    "print(distanciaMillas)\n",
    "\n"
   ]
  },
  {
   "cell_type": "code",
   "execution_count": 17,
   "metadata": {},
   "outputs": [],
   "source": [
    "# Almacenar las entradas del usuario\n",
    "#Pista: variable = input(\"¿Cuál es tu nombre?\")\n",
    "PrimerPlaneta = input(\"Introduce la distancia: \")\n",
    "SegundoPlaneta = input(\"Introduce la distancia: \")\n"
   ]
  },
  {
   "cell_type": "code",
   "execution_count": 19,
   "metadata": {},
   "outputs": [
    {
     "name": "stdout",
     "output_type": "stream",
     "text": [
      "57900000\n",
      "108200000\n"
     ]
    }
   ],
   "source": [
    "# Convierte las cadenas de ambos planetas a números enteros\n",
    "PrimerPlaneta = int(PrimerPlaneta)\n",
    "SegundoPlaneta = int(SegundoPlaneta)\n",
    "print(PrimerPlaneta)\n",
    "print(SegundoPlaneta)"
   ]
  },
  {
   "cell_type": "code",
   "execution_count": 22,
   "metadata": {},
   "outputs": [
    {
     "name": "stdout",
     "output_type": "stream",
     "text": [
      "50300000\n",
      "31236300.0\n"
     ]
    }
   ],
   "source": [
    "# Realizar el cálculo y determinar el valor absoluto\n",
    "restaDist = abs(PrimerPlaneta - SegundoPlaneta)\n",
    "print(restaDist)\n",
    "# Convertir de KM a Millas\n",
    "KmAMillas = restaDist * 0.621\n",
    "print(KmAMillas)"
   ]
  }
 ],
 "metadata": {
  "interpreter": {
   "hash": "f565dc464a86699f1f634d5c4b2dc8285304ea0b06635acb4fd373cc0534cc20"
  },
  "kernelspec": {
   "display_name": "Python 3.10.2 64-bit",
   "language": "python",
   "name": "python3"
  },
  "language_info": {
   "codemirror_mode": {
    "name": "ipython",
    "version": 3
   },
   "file_extension": ".py",
   "mimetype": "text/x-python",
   "name": "python",
   "nbconvert_exporter": "python",
   "pygments_lexer": "ipython3",
   "version": "3.10.2"
  },
  "orig_nbformat": 4
 },
 "nbformat": 4,
 "nbformat_minor": 2
}
